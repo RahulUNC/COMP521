{
 "cells": [
  {
   "cell_type": "markdown",
   "metadata": {},
   "source": [
    "## Assignment 3\n",
    "\n",
    "Assigned: 14 March 2021  \n",
    "Due: 22 March 2021"
   ]
  },
  {
   "cell_type": "markdown",
   "metadata": {},
   "source": [
    "## Setup\n",
    "\n",
    "You will need to use the math module for functions like ceil and\n",
    "floor to round real values up/down to the nearest integer and\n",
    "log to compute the logarithm. Note that the second argument to\n",
    "log can be use to specify the logarithm base. Also, as a reminder,\n",
    "the operator ** in Python does exponentiation (i.e., 2**10 = 1024).\n",
    "\n",
    "Your answers should be in terms of variables defined in the\n",
    "file A3vars that are imported below. You must use the variables\n",
    "because they will have different values when the assignment is graded.\n",
    "\n",
    "The variables defined are:\n",
    " * N = number of entries for questions in part 1\n",
    " * P = number of entries per page\n",
    " * M = number of initial patterns\n",
    " * Cdisk = capacity of disk in terabytes (TB)\n",
    " * Csurf = capacity of a surface in gigabytes (GB)\n",
    " * Csect = size of a sector in bytes\n",
    " * Cblock = size of a block in bytes\n",
    " * St = number of sectors per track\n",
    " * Tseek = average disk seek time\n",
    " * Trotation = maximum disk rotation time\n",
    " * Nfile = number of records for question 11.\n"
   ]
  },
  {
   "cell_type": "code",
   "execution_count": 52,
   "metadata": {},
   "outputs": [],
   "source": [
    "# setup\n",
    "import sqlite3\n",
    "import comp521\n",
    "import math\n",
    "\n",
    "check, report = comp521.start('A3')\n",
    "\n",
    "from A3vars import *"
   ]
  },
  {
   "cell_type": "markdown",
   "metadata": {},
   "source": [
    "## Part 1\n",
    "\n",
    "Suppose you have a roster from a census return with $N$ entries in alphabetical order by first name. Each page has $P$ entries.\n",
    "\n",
    "__1.__ What is the lower bound $B_l$ and the upper bound $B_u$ on the number of pages that must be examined to find a given first name using a binary search? Assume that having computed a page number, you can open directly to that page."
   ]
  },
  {
   "cell_type": "code",
   "execution_count": 53,
   "metadata": {},
   "outputs": [
    {
     "name": "stdout",
     "output_type": "stream",
     "text": [
      "lower bound = 1\n",
      "upper bound = 10\n",
      "Bl appears correct\n",
      "Bu appears correct\n"
     ]
    }
   ],
   "source": [
    "# using variables N and P compute your answers and leave them in variables\n",
    "# Bl and Bu\n",
    "Bl = 1\n",
    "Bu = math.ceil(math.log(N/P,2))\n",
    "\n",
    "print ('lower bound =', Bl)\n",
    "print ('upper bound =', Bu)\n",
    "\n",
    "check('Bl', Bl, points=5)\n",
    "check('Bu', Bu, points=5)"
   ]
  },
  {
   "cell_type": "markdown",
   "metadata": {},
   "source": [
    "__2.__ Now suppose a 1-page table of contents is added to the roster. It lists the first \"first name\" on each of the other pages (Assume no first name has more than 1 page of entries). How many pages that must be examined to look up a given first name?"
   ]
  },
  {
   "cell_type": "code",
   "execution_count": 54,
   "metadata": {},
   "outputs": [
    {
     "name": "stdout",
     "output_type": "stream",
     "text": [
      "A2 = 2\n",
      "A2 appears correct\n"
     ]
    }
   ],
   "source": [
    "# leave your answer in variable A2.\n",
    "A2 = 2\n",
    "\n",
    "print ('A2 =', A2)\n",
    "\n",
    "check('A2', A2, points=5)"
   ]
  },
  {
   "cell_type": "markdown",
   "metadata": {},
   "source": [
    "__3.__ Now suppose that the roster is reorganized such that each page contains a list of names with the same initials. For example, 'Thomas Jam Andrew' falls on the same\n",
    "page as 'Travis Jam Anand' (both have initials 'TJA'). Assume that no pattern takes\n",
    "more than one page, and there are a total of $M$ patterns. Finally, assume that given the pattern you can go directly to that pattern's page. How many pages must be checked to find a particular name?"
   ]
  },
  {
   "cell_type": "code",
   "execution_count": 55,
   "metadata": {},
   "outputs": [
    {
     "name": "stdout",
     "output_type": "stream",
     "text": [
      "A3 appears correct\n"
     ]
    }
   ],
   "source": [
    "# compute your answer into A3\n",
    "A3 = 1\n",
    "\n",
    "check('A3', A3, points=5)"
   ]
  },
  {
   "cell_type": "markdown",
   "metadata": {},
   "source": [
    "__4.__ Using the same organization as question 3, assuming a page still has room for up to $P$ entries, what is the occupancy percentage of an average page in the new roster?"
   ]
  },
  {
   "cell_type": "code",
   "execution_count": 56,
   "metadata": {},
   "outputs": [
    {
     "name": "stdout",
     "output_type": "stream",
     "text": [
      "A4 = 51.2\n",
      "A4 appears correct\n"
     ]
    }
   ],
   "source": [
    "# compute your answer into A4\n",
    "A4 = N/M/P * 100\n",
    "\n",
    "\n",
    "print ('A4 =', A4)\n",
    "\n",
    "check('A4', A4, points=10)"
   ]
  },
  {
   "cell_type": "markdown",
   "metadata": {},
   "source": [
    "__5.__ Now suppose we have a two-level index to the roster. The one-page primary index lists the first name on each of the secondary index pages. The secondary index pages list the first name on each of the roster pages. Assume no first name has more than 1 page of entries. How many pages must be examined to look up a given first name?"
   ]
  },
  {
   "cell_type": "code",
   "execution_count": 57,
   "metadata": {},
   "outputs": [
    {
     "name": "stdout",
     "output_type": "stream",
     "text": [
      "A5 = 3\n",
      "A5 appears correct\n"
     ]
    }
   ],
   "source": [
    "# compute your answer into A5\n",
    "A5 = 3\n",
    "\n",
    "print ('A5 =', A5)\n",
    "\n",
    "check('A5', A5, points=10)"
   ]
  },
  {
   "cell_type": "markdown",
   "metadata": {},
   "source": [
    "## Part 2\n",
    "\n",
    "Consider a disk with a total disk capacity of $C_{disk}$ TB, a surface capacity of $C_{surf}$ GB, and a sector size of $C_{sect}$ bytes. There are $S_t$ sectors per track. The average seek time is $T_{seek}$ seconds. \n",
    "\n",
    "I'm using the binary versions of Tera, Mega, etc. $T = 2^{40}$, $G = 2^{30}$, $M = 2^{20}$, etc.\n",
    "\n",
    "__6.__ What is the capacity of a single track in MB?"
   ]
  },
  {
   "cell_type": "code",
   "execution_count": 58,
   "metadata": {},
   "outputs": [
    {
     "name": "stdout",
     "output_type": "stream",
     "text": [
      "A6 = 16.0\n",
      "A6 appears correct\n"
     ]
    }
   ],
   "source": [
    "# compute your answer into A6\n",
    "A6 = (St*Csect)/(2**20)\n",
    "\n",
    "print ('A6 =', A6)\n",
    "\n",
    "check('A6', A6, points=10)"
   ]
  },
  {
   "cell_type": "markdown",
   "metadata": {},
   "source": [
    "__7.__ How many tracks are on each surface?"
   ]
  },
  {
   "cell_type": "code",
   "execution_count": 59,
   "metadata": {},
   "outputs": [
    {
     "name": "stdout",
     "output_type": "stream",
     "text": [
      "A7 = 8192.0\n",
      "A7 appears correct\n"
     ]
    }
   ],
   "source": [
    "# compute your answer into A7\n",
    "A7 = (Csurf*2**30)/(St*Csect)\n",
    "\n",
    "print ('A7 =', A7)\n",
    "\n",
    "check('A7', A7, points=10)"
   ]
  },
  {
   "cell_type": "markdown",
   "metadata": {},
   "source": [
    "__8.__ How many platters are in this disk? Each platter has 2 surfaces."
   ]
  },
  {
   "cell_type": "code",
   "execution_count": 60,
   "metadata": {},
   "outputs": [
    {
     "name": "stdout",
     "output_type": "stream",
     "text": [
      "A8 = 8.0\n",
      "A8 appears correct\n"
     ]
    }
   ],
   "source": [
    "# compute your answer into A8\n",
    "A8 = (1/2)*Cdisk*2**10/Csurf\n",
    "\n",
    "print ('A8 =', A8)\n",
    "\n",
    "check('A8', A8, points=10)"
   ]
  },
  {
   "cell_type": "markdown",
   "metadata": {},
   "source": [
    "__9.__ How many cylinders are in this disk?"
   ]
  },
  {
   "cell_type": "code",
   "execution_count": 61,
   "metadata": {},
   "outputs": [
    {
     "name": "stdout",
     "output_type": "stream",
     "text": [
      "A9 = 8192.0\n",
      "A9 appears correct\n"
     ]
    }
   ],
   "source": [
    "# compute your answer into A9\n",
    "A9 = (Csurf*2**30)/(St*Csect)\n",
    "\n",
    "print ('A9 =', A9)\n",
    "\n",
    "check('A9', A9, points=10)"
   ]
  },
  {
   "cell_type": "markdown",
   "metadata": {},
   "source": [
    "__10.__ If the maximum rotational delay is $T_{rotation}$ what is the spinning speed of the disk in revolutions per minute (RPM)?"
   ]
  },
  {
   "cell_type": "code",
   "execution_count": 62,
   "metadata": {},
   "outputs": [
    {
     "name": "stdout",
     "output_type": "stream",
     "text": [
      "A10 = 6000.0\n",
      "A10 appears correct\n"
     ]
    }
   ],
   "source": [
    "# compute your answer into A10\n",
    "A10 = 60/Trotation\n",
    "\n",
    "print ('A10 =', A10)\n",
    "\n",
    "check('A10', A10, points=10)"
   ]
  },
  {
   "cell_type": "markdown",
   "metadata": {},
   "source": [
    "__11.__ Suppose that a file containing $N_{file}$ records of 250 bytes each is to be stored on such a disk, and that no record is allowed to span two blocks. Assume a block size of $C_{block}$ bytes. How many blocks are required to store the entire file?"
   ]
  },
  {
   "cell_type": "code",
   "execution_count": 63,
   "metadata": {},
   "outputs": [
    {
     "name": "stdout",
     "output_type": "stream",
     "text": [
      "A11 = 62500\n",
      "A11 appears correct\n"
     ]
    }
   ],
   "source": [
    "# Leave your answer in A11\n",
    "A11 = math.ceil(Nfile/(int(Cblock/250)))\n",
    "\n",
    "print ('A11 =', A11)\n",
    "check('A11', A11, points=10)"
   ]
  },
  {
   "cell_type": "code",
   "execution_count": 64,
   "metadata": {},
   "outputs": [
    {
     "name": "stdout",
     "output_type": "stream",
     "text": [
      "  Collaborators: []\n",
      "Report for rnarveka\n",
      "  12 of 12 appear correct, 100 of 100 points\n"
     ]
    },
    {
     "data": {
      "text/html": [
       "\n",
       "<p>Click the button below to submit your notebook. Watch for a confirmation message\n",
       "that your notebook was successfully uploaded. You may submit as often as you wish,\n",
       "only the last submission will count.</p>\n",
       "<button id=\"submitButton116\">Submit this notebook</button>\n",
       "<p id=\"submitResponse116\"></p>\n",
       "<script>\n",
       "var site = 'https://wwwx.cs.unc.edu/Courses/comp521-f18/';\n",
       "$('#submitButton116').on('click', function() {\n",
       "    var site = 'https://wwwx.cs.unc.edu/Courses/comp521-f18/',\n",
       "        $sresp = $('#submitResponse116'),\n",
       "        button = $('#submitButton116');\n",
       "    button.prop('disabled', true);\n",
       "    // wait until save is complete before pushing the notebook\n",
       "    $([IPython.events]).one('notebook_saved.Notebook', function() {\n",
       "        // get the token by logging in\n",
       "        $sresp.html('logging in');\n",
       "        $.ajax({\n",
       "            url: site + 'io/token/token.cgi',\n",
       "            dataType: 'jsonp'\n",
       "        }).done(function(data) {\n",
       "            var notebook = IPython.notebook.notebook_name,\n",
       "                uuid = data.token,\n",
       "                command = \"comp521.pushNotebook('\" + notebook + \"', '\" + uuid + \"')\",\n",
       "                kernel = IPython.notebook.kernel,\n",
       "                handler = function (out) {\n",
       "                    $('#comp116-stop-message').show();\n",
       "                    if (out.content.status == \"ok\") {\n",
       "                        $sresp.html(\"Successfully submitted \" + notebook);\n",
       "                        $('#comp116-stop-message').hide();\n",
       "                    } else if(out.content.status == \"error\") {\n",
       "                        $sresp.html(out.content.ename + \": \" + out.content.evalue);\n",
       "                    } else { // if output is something we haven't thought of\n",
       "                        $sresp.html(\"[out type not implemented]\")\n",
       "                    }\n",
       "                    button.prop('disabled', false);\n",
       "                };\n",
       "            $sresp.html('Submitting');\n",
       "            kernel.execute(command, {shell: { reply: handler }});\n",
       "        }).fail(function() {\n",
       "            $sresp.html('Login failed');\n",
       "            button.prop('disabled', false);\n",
       "        });\n",
       "    });\n",
       "    // trigger the save\n",
       "    $sresp.html('Saving');\n",
       "    IPython.notebook.save_notebook();\n",
       "});"
      ],
      "text/plain": [
       "<IPython.core.display.HTML object>"
      ]
     },
     "execution_count": 64,
     "metadata": {},
     "output_type": "execute_result"
    }
   ],
   "source": [
    "onyen = 'rnarveka'\n",
    "collaborators = []\n",
    "report(onyen, collaborators)"
   ]
  },
  {
   "cell_type": "code",
   "execution_count": null,
   "metadata": {},
   "outputs": [],
   "source": []
  }
 ],
 "metadata": {
  "kernelspec": {
   "display_name": "Python 3",
   "language": "python",
   "name": "python3"
  },
  "language_info": {
   "codemirror_mode": {
    "name": "ipython",
    "version": 3
   },
   "file_extension": ".py",
   "mimetype": "text/x-python",
   "name": "python",
   "nbconvert_exporter": "python",
   "pygments_lexer": "ipython3",
   "version": "3.9.1"
  }
 },
 "nbformat": 4,
 "nbformat_minor": 1
}
