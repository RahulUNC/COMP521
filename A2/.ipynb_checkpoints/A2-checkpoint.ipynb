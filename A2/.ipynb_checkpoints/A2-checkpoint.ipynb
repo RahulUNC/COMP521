{
 "cells": [
  {
   "cell_type": "markdown",
   "metadata": {},
   "source": [
    "# Comp 521 Fall 2018 Assignment 2\n",
    "__Assigned__: 20 September 2018  \n",
    "__Due__: 4 October 2018"
   ]
  },
  {
   "cell_type": "code",
   "execution_count": 42,
   "metadata": {},
   "outputs": [],
   "source": [
    "# fill in your info here\n",
    "onyen = \"rnarveka\"\n",
    "collaborators = []"
   ]
  },
  {
   "cell_type": "markdown",
   "metadata": {},
   "source": [
    "Download and unzip [movies.db.zip](http://gb.cs.unc.edu/~kmp/movies.db.zip) to produce a movies.db file in your working folder. This database is about 836 megabytes so some of the queries may take a while, __start early__.  This database has the following schema:\n",
    "```\n",
    "Customers (\n",
    "    cardNo INTEGER PRIMARY KEY,\n",
    "    first TEXT,\n",
    "    last TEXT,\n",
    "    sex CHAR,\n",
    "    dob DATE\n",
    ")\n",
    "\n",
    "Movies (\n",
    "    movieId INTEGER PRIMARY KEY,\n",
    "    title TEXT,\n",
    "    year INTEGER\n",
    ")\n",
    "\n",
    "Rentals (\n",
    "    cardNo INTEGER,\n",
    "    movieId INTEGER,\n",
    "    date DATE,\n",
    "    rating INTEGER,\n",
    "    PRIMARY KEY(cardNo, movieID, date),\n",
    "    FOREIGN KEY (cardNo) REFERENCES Customers,\n",
    "    FOREIGN KEY (movieId) REFERENCES Movies\n",
    ")\n",
    "```\n",
    "\n",
    "Write code in the cells below to answer each question."
   ]
  },
  {
   "cell_type": "code",
   "execution_count": 43,
   "metadata": {},
   "outputs": [],
   "source": [
    "# setup\n",
    "import sqlite3\n",
    "conn = sqlite3.connect('movies.db')\n",
    "cursor = conn.cursor()\n",
    "\n",
    "import comp521\n",
    "check, report = comp521.start('A2')"
   ]
  },
  {
   "cell_type": "markdown",
   "metadata": {},
   "source": [
    "## 1. Find the following using SQL queries"
   ]
  },
  {
   "cell_type": "markdown",
   "metadata": {},
   "source": [
    "__1a. How many male customers are there?__"
   ]
  },
  {
   "cell_type": "code",
   "execution_count": 44,
   "metadata": {},
   "outputs": [
    {
     "name": "stdout",
     "output_type": "stream",
     "text": [
      "1a appears correct\n"
     ]
    }
   ],
   "source": [
    "# write your query as a single string here\n",
    "a1a = \"\"\"SELECT COUNT(sex) \n",
    "         FROM Customers \n",
    "         WHERE sex='M'\"\"\"\n",
    "\n",
    "# code to execute your query, leave this alone\n",
    "q1a = cursor.execute(a1a).fetchone()[0]\n",
    "check('1a', q1a, points=10)"
   ]
  },
  {
   "cell_type": "markdown",
   "metadata": {},
   "source": [
    "__1b. How many movies were released in either 2004 or 2006?__"
   ]
  },
  {
   "cell_type": "code",
   "execution_count": 45,
   "metadata": {},
   "outputs": [
    {
     "name": "stdout",
     "output_type": "stream",
     "text": [
      "1b appears correct\n"
     ]
    }
   ],
   "source": [
    "a1b = \"\"\"SELECT COUNT(*)\n",
    "         FROM Movies M\n",
    "         WHERE M.year == 2004 OR M.year == 2006\"\"\"\n",
    "\n",
    "# test code\n",
    "q1b = cursor.execute(a1b).fetchone()[0]\n",
    "check('1b', q1b, points=10)"
   ]
  },
  {
   "cell_type": "markdown",
   "metadata": {},
   "source": [
    "__1c. What are the first and last names of the oldest customers in alphabetical order by last and first name?__"
   ]
  },
  {
   "cell_type": "code",
   "execution_count": 46,
   "metadata": {},
   "outputs": [
    {
     "name": "stdout",
     "output_type": "stream",
     "text": [
      "1c appears correct\n"
     ]
    }
   ],
   "source": [
    "a1c = \"\"\"SELECT C.first, C.last\n",
    "         FROM Customers C\n",
    "         WHERE C.dob = (SELECT MIN(C.dob)\n",
    "                        FROM Customers C)\n",
    "         ORDER BY C.last, C.first ASC\n",
    "         \"\"\"\n",
    "\n",
    "# test\n",
    "q1c = cursor.execute(a1c).fetchall()\n",
    "check('1c', q1c, points=10)"
   ]
  },
  {
   "cell_type": "markdown",
   "metadata": {},
   "source": [
    "__1d. How many customers were born before January 1st, 1950 (not inclusive)?__"
   ]
  },
  {
   "cell_type": "code",
   "execution_count": 47,
   "metadata": {},
   "outputs": [
    {
     "name": "stdout",
     "output_type": "stream",
     "text": [
      "1d appears correct\n"
     ]
    }
   ],
   "source": [
    "a1d = \"\"\"SELECT COUNT(*)\n",
    "         FROM Customers C\n",
    "         WHERE C.dob < '1950-01-01'\"\"\"\n",
    "\n",
    "# test\n",
    "q1d = cursor.execute(a1d).fetchone()[0]\n",
    "check('1d', q1d, points=10)"
   ]
  },
  {
   "cell_type": "markdown",
   "metadata": {},
   "source": [
    "__1e. What is the average rating for all movies rented between January 1st 2000, and December 31st 2000 (inclusive)?__"
   ]
  },
  {
   "cell_type": "code",
   "execution_count": 48,
   "metadata": {},
   "outputs": [
    {
     "name": "stdout",
     "output_type": "stream",
     "text": [
      "1e appears correct\n"
     ]
    }
   ],
   "source": [
    "a1e = \"\"\"SELECT AVG(R.rating)\n",
    "         FROM Rentals R\n",
    "         WHERE R.date >= '2000-01-01' AND R.date <= '2000-12-31'\"\"\"\n",
    "\n",
    "# test\n",
    "q1e = cursor.execute(a1e).fetchone()[0]\n",
    "check('1e', q1e, points=10)"
   ]
  },
  {
   "cell_type": "markdown",
   "metadata": {},
   "source": [
    "## 2. Fill in the body of the functions below.\n",
    "\n",
    "__2a. Fill in code to make this function return a list with the titles of the films released in the given year, sorted alphabetically.__"
   ]
  },
  {
   "cell_type": "code",
   "execution_count": 49,
   "metadata": {},
   "outputs": [
    {
     "name": "stdout",
     "output_type": "stream",
     "text": [
      "2a appears correct\n"
     ]
    }
   ],
   "source": [
    "def f2a(year):\n",
    "    return [str(i[0]) for i in (cursor.execute(\"\"\"SELECT M.title\n",
    "                                                  FROM Movies M\n",
    "                                                  WHERE M.year = %d\n",
    "                                                  ORDER BY M.title ASC\"\"\"%(year)).fetchall())]\n",
    "    \n",
    "\n",
    "q2a = f2a(1935)\n",
    "check('2a', q2a, points=10)"
   ]
  },
  {
   "cell_type": "markdown",
   "metadata": {},
   "source": [
    "__2b. Write a function that takes a string representing some part of a film title, and returns a list of tuples with the first and last names of customers who rented those films and rated them 3 or higher. Sort this list alphabetically by last name and first names.__\n"
   ]
  },
  {
   "cell_type": "code",
   "execution_count": 50,
   "metadata": {},
   "outputs": [
    {
     "name": "stdout",
     "output_type": "stream",
     "text": [
      "2b appears correct\n"
     ]
    }
   ],
   "source": [
    "def f2b(title):\n",
    "    return cursor.execute(\"\"\"SELECT  C.first, C.last\n",
    "                             FROM Customers C\n",
    "                             WHERE C.cardNo IN(SELECT R.cardNo\n",
    "                                               FROM Rentals R\n",
    "                                               WHERE R.rating >= 3 AND R.movieId IN(SELECT M.movieId\n",
    "                                                                                    FROM Movies M\n",
    "                                                                                    WHERE M.title LIKE '%\"\"\" + str(title) + \"\"\"%'))\n",
    "                             ORDER BY C.last, C.first ASC\"\"\").fetchall()\n",
    "    \n",
    "q2b = f2b('rash Di')\n",
    "check('2b', q2b, points=20)"
   ]
  },
  {
   "cell_type": "markdown",
   "metadata": {},
   "source": [
    "__2c. Write a function that takes year as input, and returns a list of the titles of the most rented films among the films released that year.__"
   ]
  },
  {
   "cell_type": "code",
   "execution_count": 62,
   "metadata": {},
   "outputs": [
    {
     "name": "stdout",
     "output_type": "stream",
     "text": [
      "2c appears correct\n"
     ]
    }
   ],
   "source": [
    "def f2c(year):\n",
    "    cursor.execute(\"\"\"DROP TABLE IF EXISTS tempMovies\"\"\")\n",
    "    querry = cursor.execute(\"\"\"CREATE TEMP TABLE tempMovies AS\n",
    "    SELECT M.title AS movie, count(M.movieID) AS rentCount\n",
    "    FROM Movies M, Rentals R\n",
    "    WHERE M.year = %d AND M.movieId = R.movieId\n",
    "    GROUP BY M.movieId\"\"\"%(year))\n",
    "    \n",
    "    cursor.execute(\"\"\"SELECT t1.movie FROM tempMovies t1\n",
    "                      WHERE t1.rentCount = (SELECT MAX(t2.rentCount) \n",
    "                                            FROM tempMovies t2)\"\"\")\n",
    "    \n",
    "    return [i[0] for i in cursor]\n",
    "\n",
    "q2c = f2c(2001)\n",
    "check('2c', q2c, points=20)  "
   ]
  },
  {
   "cell_type": "markdown",
   "metadata": {},
   "source": [
    "# Done!\n",
    "\n",
    "Now get your report, save, and submit your notebook. I recommend you restart the kernel, and run all, just to be sure things are going to work correctly when I run it."
   ]
  },
  {
   "cell_type": "code",
   "execution_count": 52,
   "metadata": {},
   "outputs": [
    {
     "name": "stdout",
     "output_type": "stream",
     "text": [
      "  Collaborators: []\n",
      "Report for rnarveka\n",
      "  8 of 8 appear correct, 100 of 100 points\n"
     ]
    }
   ],
   "source": [
    "report(onyen, collaborators)"
   ]
  }
 ],
 "metadata": {
  "kernelspec": {
   "display_name": "Python 3",
   "language": "python",
   "name": "python3"
  },
  "language_info": {
   "codemirror_mode": {
    "name": "ipython",
    "version": 3
   },
   "file_extension": ".py",
   "mimetype": "text/x-python",
   "name": "python",
   "nbconvert_exporter": "python",
   "pygments_lexer": "ipython3",
   "version": "3.9.4"
  }
 },
 "nbformat": 4,
 "nbformat_minor": 1
}
